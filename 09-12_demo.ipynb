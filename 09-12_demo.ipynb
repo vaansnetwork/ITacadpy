{
 "cells": [
  {
   "cell_type": "code",
   "execution_count": null,
   "metadata": {},
   "outputs": [],
   "source": [
    "# CON LA ALMOHADILLA ESCRIBIMOS UNA LÍNEA DE COMENTARIOS\n",
    "# TIENE QUE QUEDAR EN COLOR VERDE, NO SE EJECUTA \n",
    "# LAS VARIABLES = SON OBJETOS QUE ALMACENAN TEMPORALMENTE UN VALOR. \n",
    "# LAS VARIABLES NO SE DECLARAN, SE LES ASIGNAN UN VALOR DIRECTAMENTE\n",
    "# x = 5\n",
    "X = 3\n",
    "X+x\n",
    "# EL RESULTADO DE UNA CELDA ES EL OUTPUT\n"
   ]
  },
  {
   "cell_type": "code",
   "execution_count": null,
   "metadata": {},
   "outputs": [],
   "source": [
    "# La función print, sirve para mostrar un resultado en el output. Toda función llevan un paréntesis de apertura y uno de cierre\n",
    "print(x)\n",
    "print(X)"
   ]
  },
  {
   "cell_type": "code",
   "execution_count": null,
   "metadata": {},
   "outputs": [],
   "source": [
    "print(\"el resultado de\",x+X, \"unidades\")"
   ]
  },
  {
   "cell_type": "code",
   "execution_count": null,
   "metadata": {},
   "outputs": [],
   "source": [
    "dia=\"lunes\"\n",
    "dia2=\"martes\"\n",
    "print(\"Hoy es\", dia,)\n",
    "print()\n",
    "print(dia+dia2)"
   ]
  },
  {
   "cell_type": "code",
   "execution_count": null,
   "metadata": {},
   "outputs": [],
   "source": [
    "# Cómo interactuar con el usuario, que el usuario pueda poner un valor, con la función input\n",
    "mensaje=input(\"Escriba su nombre: \")\n",
    "print(\"Su nombre es\", mensaje)"
   ]
  },
  {
   "cell_type": "code",
   "execution_count": null,
   "metadata": {},
   "outputs": [],
   "source": [
    "# Las listas, son objetos que almacenan temporalmente varios valores\n",
    "ingredientes=[\"Carne\", \"Puerros\", \"perejil\", \"Huevos\", 25, \"Sal\"]\n",
    "# Cómo acceder a un elemento de una lista\n",
    "ingredientes[0]\n",
    "# Una función que nos dirá el número de elementos que tiene una lista\n",
    "print(len(dia))\n",
    "len(ingredientes)\n",
    "# Cómo añadir un elemento a una lista al final de una lista\n",
    "ingredientes.append(\"zanahoria\")\n",
    "print(ingredientes)\n"
   ]
  },
  {
   "cell_type": "code",
   "execution_count": null,
   "metadata": {},
   "outputs": [],
   "source": [
    "\n",
    "# Cómo insertar un elemento en medio de la lista\n",
    "ingredientes.insert(1, \"brocoli\")\n",
    "ingredientes\n",
    "ingredientes.count(\"zanahoria\")\n",
    "# Eliminar un elemento de una lista\n",
    "ingredientes.remove(\"zanahoria\")\n",
    "del ingredientes[4]\n",
    "ingrediente.clear()\n",
    "\n"
   ]
  },
  {
   "cell_type": "markdown",
   "metadata": {},
   "source": [
    "PRÁCTICA 1: Crearemos una lista llamada semana, que contendra los dias de lunes a viernes, sin el jueves\n",
    "despues añadiramos el sábado y el domingo , \n",
    "a continuación pondremos el jueves en su sitio, \n",
    "añadiremos al final dos viernes y guardaremos en una variable, el numero de viernes que contiene la lista en este momento, \n",
    "despues borraremos los viernes sobrantes y morstraremos en el output un texto que ponga \"el numero d vienre era x\""
   ]
  },
  {
   "cell_type": "code",
   "execution_count": null,
   "metadata": {},
   "outputs": [],
   "source": [
    "semana=[\"lunes\", \"martes\", \"miércoles\", \"viernes\"]\n",
    "print(semana)\n",
    "semana.append(\"sábado\")\n",
    "print(semana)\n",
    "semana.append(\"domingo\")\n",
    "print(semana)\n",
    "semana.insert(3, \"jueves\")\n",
    "print(semana)\n",
    "semana.append(\"viernes\")\n",
    "semana.append(\"viernes\")\n",
    "print(semana)\n",
    "x=semana.count(\"viernes\")\n",
    "print(x)\n",
    "print(len(semana))\n",
    "del semana[7:]\n",
    "print(semana)\n",
    "print(\"El número de viernes era\",x)"
   ]
  },
  {
   "cell_type": "code",
   "execution_count": null,
   "metadata": {},
   "outputs": [],
   "source": [
    "# Una función para genera números, se llama range, del 0 al 9\n",
    "numeros=range(10)\n",
    "x=numeros\n",
    "list(x)\n",
    "numeros=range(10, 0, -1)\n",
    "x=numeros\n",
    "list(x)"
   ]
  },
  {
   "cell_type": "code",
   "execution_count": null,
   "metadata": {},
   "outputs": [],
   "source": [
    "# 3 funcion de resumen \n",
    "numeros=range(11)\n",
    "print(sum(numeros))\n",
    "print(max(numeros))\n",
    "print(min(numeros))\n"
   ]
  },
  {
   "cell_type": "code",
   "execution_count": null,
   "metadata": {},
   "outputs": [],
   "source": [
    "# Bucle infinito: iteración infinita \n",
    "# Bucle finito con número determinado de Iteraciónes\n",
    "for k in [1, 2, 3, 4, 5,]:\n",
    "    print(k)\n",
    "#for k in range(0, 11, 1):\n",
    "    print(k)\n",
    "for dia in semana:\n",
    "    print(\"El día de la semana es\", dia)\n",
    "\n",
    "# Una variable que controle el número de iteraciones\n",
    "# metodo contador\n",
    "iter=1\n",
    "for k in semana:\n",
    "    print(\"El\", iter, \"día de la semana es\", dia):\n",
    "    iter=iter+1\n",
    "    # iter+=1\n"
   ]
  },
  {
   "cell_type": "markdown",
   "metadata": {},
   "source": [
    "PRÁCTICA 2: Mediante un bucle for, recorrer una lista con los mese de enero a diciembre y se tiene que mostrar un texto que ponga \n",
    "\"el 1 mes del año es enero\", \"el 2 mes dle año es Febrero\"\n",
    "\n",
    "Luego \n",
    "\"el primer mes de año es ... El segundo mes del año es "
   ]
  },
  {
   "cell_type": "code",
   "execution_count": null,
   "metadata": {},
   "outputs": [],
   "source": [
    "meses=[\"enero\", \"febrero\", \"marzo\", \"abril\", \"mayo\", \"junio\", \"julio\", \"agosto\", \"septiembre\", \"octubre\", \"noviembre\", \"diciembre\",]\n",
    "# ordinales=[\"primero\",\"segundo\", \"tercero\", \"cuarto\", \"quinto\", \"sexto\", \"séptimo\", \"octavo\", \"noveno\", \"décimo\", \"undécimo\", \"duodécimo\"]\n",
    "iter=1\n",
    "for mes in meses:\n",
    "    print(\"El\", iter, \"mes del año es\", mes)\n",
    "    iter+=1\n",
    "print(\"stop\")\n",
    "#for mes in meses:\n",
    "#    print(\"El\", ordinal)\n",
    "\n"
   ]
  },
  {
   "cell_type": "code",
   "execution_count": 111,
   "metadata": {},
   "outputs": [
    {
     "name": "stdout",
     "output_type": "stream",
     "text": [
      "Si es Gerona\n"
     ]
    }
   ],
   "source": [
    "# La estructura de decisión if para analizar una condición\n",
    "ciudad=\"Gerona\"\n",
    "if ciudad==\"Gerona\":\n",
    "    print(\"Si es Gerona\")\n",
    "else:\n",
    "    print(\"Esto no es Gerona\")\n"
   ]
  },
  {
   "cell_type": "markdown",
   "metadata": {},
   "source": [
    "PRACTICA 3:Mediante la lista meses y con un bucle for, imprimir todos los mese del anño, menos Junio. \n",
    "\n",
    "PRACTICA 4: Mediante una lista de números [15, 33, 48, 67, 325, 19, 73, 88, 14,]\n",
    "con un bucle for imprimir en el output los numeros mayores de 40\n",
    "\n",
    "PRACTICA 5: Mediante la lista imprimir y con un bucle for, imprimir todos los mese del años, cuyo nombre del mes tenga 5 caracteres\n"
   ]
  },
  {
   "cell_type": "code",
   "execution_count": 119,
   "metadata": {},
   "outputs": [
    {
     "name": "stdout",
     "output_type": "stream",
     "text": [
      "enero\n",
      "febrero\n",
      "marzo\n",
      "abril\n",
      "mayo\n",
      "julio\n",
      "agosto\n",
      "septiembre\n",
      "octubre\n",
      "noviembre\n",
      "diciembre\n"
     ]
    }
   ],
   "source": [
    "# PRÁCTICA 3 -----------------------------------------\n",
    "\n",
    "meses=[\"enero\", \"febrero\", \"marzo\", \"abril\", \"mayo\", \"junio\", \"julio\", \"agosto\", \"septiembre\", \"octubre\", \"noviembre\", \"diciembre\",]\n",
    "\n",
    "for mes in meses:\n",
    "    if mes != \"junio\":\n",
    "        print(mes)"
   ]
  },
  {
   "cell_type": "code",
   "execution_count": 123,
   "metadata": {},
   "outputs": [
    {
     "name": "stdout",
     "output_type": "stream",
     "text": [
      "48\n",
      "67\n",
      "325\n",
      "73\n",
      "88\n"
     ]
    }
   ],
   "source": [
    "# PRÁCTICA 3 -----------------------------------------\n",
    "\n",
    "num=[15, 33, 48, 67, 325, 19, 73, 88, 14,]\n",
    "for numero in num:\n",
    "    if numero>40:\n",
    "        print(numero)\n"
   ]
  },
  {
   "cell_type": "code",
   "execution_count": 126,
   "metadata": {},
   "outputs": [
    {
     "name": "stdout",
     "output_type": "stream",
     "text": [
      "enero\n",
      "marzo\n",
      "abril\n",
      "junio\n",
      "julio\n"
     ]
    }
   ],
   "source": [
    "# PRÁCTICA 3 -----------------------------------------\n",
    "meses=[\"enero\", \"febrero\", \"marzo\", \"abril\", \"mayo\", \"junio\", \"julio\", \"agosto\", \"septiembre\", \"octubre\", \"noviembre\", \"diciembre\",]\n",
    "num_meses=1\n",
    "for mes  in meses:\n",
    "    if len(mes)==5:\n",
    "        print(mes)\n",
    "        num_meses+=1"
   ]
  },
  {
   "cell_type": "code",
   "execution_count": null,
   "metadata": {},
   "outputs": [],
   "source": []
  }
 ],
 "metadata": {
  "kernelspec": {
   "display_name": "Python 3",
   "language": "python",
   "name": "python3"
  },
  "language_info": {
   "codemirror_mode": {
    "name": "ipython",
    "version": 3
   },
   "file_extension": ".py",
   "mimetype": "text/x-python",
   "name": "python",
   "nbconvert_exporter": "python",
   "pygments_lexer": "ipython3",
   "version": "3.13.1"
  }
 },
 "nbformat": 4,
 "nbformat_minor": 2
}
